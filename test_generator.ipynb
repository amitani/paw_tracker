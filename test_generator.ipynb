{
 "cells": [
  {
   "cell_type": "code",
   "execution_count": 1,
   "metadata": {},
   "outputs": [],
   "source": [
    "import glob\n",
    "import os.path\n",
    "import numpy as np\n",
    "import cv2\n",
    "import scipy.io\n",
    "import struct\n",
    "\n",
    "\n",
    "files = [open(fn_mat[:-3]+'bin','rb') for fn_mat in sorted(glob.glob('./Aki/LeftPawManual*.mat'))]\n",
    "npys = [np.load(fn_mat[:-3]+'npy') for fn_mat in sorted(glob.glob('./Aki/LeftPawManual*.mat'))]\n"
   ]
  },
  {
   "cell_type": "code",
   "execution_count": 5,
   "metadata": {},
   "outputs": [
    {
     "data": {
      "text/plain": [
       "[2755, 2602, 2523, 2584, 32292, 10000]"
      ]
     },
     "execution_count": 5,
     "metadata": {},
     "output_type": "execute_result"
    }
   ],
   "source": []
  },
  {
   "cell_type": "code",
   "execution_count": 7,
   "metadata": {},
   "outputs": [
    {
     "data": {
      "text/plain": [
       "array([[   0,    0],\n",
       "       [   0,    1],\n",
       "       [   0,    2],\n",
       "       ...,\n",
       "       [   5, 9997],\n",
       "       [   5, 9998],\n",
       "       [   5, 9999]])"
      ]
     },
     "execution_count": 7,
     "metadata": {},
     "output_type": "execute_result"
    }
   ],
   "source": [
    "np.concatenate(I_all)"
   ]
  },
  {
   "cell_type": "code",
   "execution_count": 10,
   "metadata": {},
   "outputs": [
    {
     "data": {
      "text/plain": [
       "(2,)"
      ]
     },
     "execution_count": 10,
     "metadata": {},
     "output_type": "execute_result"
    }
   ],
   "source": [
    "y=np.zeros((2))\n",
    "y.shape"
   ]
  },
  {
   "cell_type": "code",
   "execution_count": 35,
   "metadata": {},
   "outputs": [],
   "source": [
    "y = np.array([y[0],y[1]])"
   ]
  },
  {
   "cell_type": "code",
   "execution_count": 12,
   "metadata": {},
   "outputs": [],
   "source": [
    "x= np.zeros((300,300))"
   ]
  },
  {
   "cell_type": "code",
   "execution_count": 30,
   "metadata": {},
   "outputs": [],
   "source": [
    "mat = np.array([[1,0,0],[0,1,0],[1,1,1]]).astype(float)"
   ]
  },
  {
   "cell_type": "code",
   "execution_count": 31,
   "metadata": {},
   "outputs": [],
   "source": [
    "x = cv2.warpPerspective(x, mat, (x.shape[1], x.shape[0]),\n",
    "    flags=cv2.INTER_LINEAR, borderMode=cv2.BORDER_CONSTANT,\n",
    "    borderValue=(0, 0, 0))"
   ]
  },
  {
   "cell_type": "code",
   "execution_count": 36,
   "metadata": {},
   "outputs": [],
   "source": [
    "\n",
    "y_tmp = np.ones((3,1))\n",
    "y_tmp[0,0] = y[0]\n",
    "y_tmp[1,0] = y[1]\n",
    "y_tmp = mat*y_tmp\n",
    "y[0] = y_tmp[0,0]/y_tmp[2,0]\n",
    "y[1] = y_tmp[1,0]/y_tmp[2,0]"
   ]
  },
  {
   "cell_type": "code",
   "execution_count": 34,
   "metadata": {},
   "outputs": [
    {
     "data": {
      "text/plain": [
       "array([0., 0., 1.])"
      ]
     },
     "execution_count": 34,
     "metadata": {},
     "output_type": "execute_result"
    }
   ],
   "source": [
    "y"
   ]
  },
  {
   "cell_type": "code",
   "execution_count": 1,
   "metadata": {},
   "outputs": [
    {
     "name": "stdout",
     "output_type": "stream",
     "text": [
      "[2755, 2602, 2523, 2584, 32292, 10000]\n",
      "./Aki/LeftPawManual_MD001_170713.mat\n",
      "2755\n",
      "./Aki/LeftPawManual_MD001_170723.mat\n",
      "2602\n",
      "./Aki/LeftPawManual_MD001_170724_rec1.mat\n",
      "2523\n",
      "./Aki/LeftPawManual_MD002_170713_rec2.mat\n",
      "2584\n",
      "./Aki/LeftPawManual_MD009_170808.mat\n",
      "32292\n",
      "./Aki/LeftPawManual_MD010_170808.mat\n",
      "10000\n"
     ]
    }
   ],
   "source": [
    "import data_generator"
   ]
  },
  {
   "cell_type": "code",
   "execution_count": 40,
   "metadata": {},
   "outputs": [
    {
     "data": {
      "text/plain": [
       "['./Aki/LeftPawManual_MD002_170713_rec2.mat',\n",
       " './Aki/LeftPawManual_MD009_170808.mat',\n",
       " './Aki/LeftPawManual_MD010_170808.mat',\n",
       " './Aki/LeftPawManual_MD001_170724_rec1.mat',\n",
       " './Aki/LeftPawManual_MD001_170723.mat',\n",
       " './Aki/LeftPawManual_MD001_170713.mat']"
      ]
     },
     "execution_count": 40,
     "metadata": {},
     "output_type": "execute_result"
    }
   ],
   "source": [
    "glob.glob('./Aki/LeftPawManual*.mat')"
   ]
  },
  {
   "cell_type": "code",
   "execution_count": 44,
   "metadata": {
    "scrolled": true
   },
   "outputs": [
    {
     "data": {
      "text/plain": [
       "[array([[144.56995885,  71.65363512],\n",
       "        [142.82848233,  73.14033264],\n",
       "        [143.82432432,  74.13617464],\n",
       "        ...,\n",
       "        [170.71205821,  70.15280665],\n",
       "        [170.71205821,  70.15280665],\n",
       "        [170.71205821,  70.15280665]]), array([[144.56995885,  71.65363512],\n",
       "        [142.82848233,  73.14033264],\n",
       "        [143.82432432,  74.13617464],\n",
       "        ...,\n",
       "        [170.71205821,  70.15280665],\n",
       "        [170.71205821,  70.15280665],\n",
       "        [170.71205821,  70.15280665]]), array([[144.56995885,  71.65363512],\n",
       "        [142.82848233,  73.14033264],\n",
       "        [143.82432432,  74.13617464],\n",
       "        ...,\n",
       "        [170.71205821,  70.15280665],\n",
       "        [170.71205821,  70.15280665],\n",
       "        [170.71205821,  70.15280665]]), array([[144.56995885,  71.65363512],\n",
       "        [142.82848233,  73.14033264],\n",
       "        [143.82432432,  74.13617464],\n",
       "        ...,\n",
       "        [170.71205821,  70.15280665],\n",
       "        [170.71205821,  70.15280665],\n",
       "        [170.71205821,  70.15280665]]), array([[144.56995885,  71.65363512],\n",
       "        [142.82848233,  73.14033264],\n",
       "        [143.82432432,  74.13617464],\n",
       "        ...,\n",
       "        [170.71205821,  70.15280665],\n",
       "        [170.71205821,  70.15280665],\n",
       "        [170.71205821,  70.15280665]]), array([[144.56995885,  71.65363512],\n",
       "        [142.82848233,  73.14033264],\n",
       "        [143.82432432,  74.13617464],\n",
       "        ...,\n",
       "        [170.71205821,  70.15280665],\n",
       "        [170.71205821,  70.15280665],\n",
       "        [170.71205821,  70.15280665]])]"
      ]
     },
     "execution_count": 44,
     "metadata": {},
     "output_type": "execute_result"
    }
   ],
   "source": [
    "data_generator.npys"
   ]
  },
  {
   "cell_type": "code",
   "execution_count": null,
   "metadata": {},
   "outputs": [],
   "source": []
  }
 ],
 "metadata": {
  "kernelspec": {
   "display_name": "Python 3",
   "language": "python",
   "name": "python3"
  },
  "language_info": {
   "codemirror_mode": {
    "name": "ipython",
    "version": 3
   },
   "file_extension": ".py",
   "mimetype": "text/x-python",
   "name": "python",
   "nbconvert_exporter": "python",
   "pygments_lexer": "ipython3",
   "version": "3.5.2"
  }
 },
 "nbformat": 4,
 "nbformat_minor": 2
}
