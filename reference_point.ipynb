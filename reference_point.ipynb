{
 "cells": [
  {
   "cell_type": "code",
   "execution_count": 39,
   "metadata": {},
   "outputs": [
    {
     "name": "stdout",
     "output_type": "stream",
     "text": [
      "HL186_170718_L23_F1\n",
      "  HeadPlatePosition Not Found\n",
      "HL237_180117_L23_F2\n",
      "HL237_180118_L23_F1\n",
      "  HeadPlatePosition Not Found\n",
      "HL241_180117_training\n",
      "HL241_180130_opto_wholetrial\n",
      "HL242_180117_training\n",
      "HL246_180314_ladder\n",
      "  HeadPlatePosition Not Found\n",
      "HL246_180326_L23_F1_Ladder\n",
      "HL246_180326_L23_F1_Wheel\n",
      "MD001_170713\n",
      "MD001_170723\n",
      "MD001_170724_rec1\n",
      "MD002_170713_rec2\n",
      "MD002_170724_rec1\n",
      "  HeadPlatePosition Not Found\n",
      "MD003_170721\n",
      "MD003_170731\n",
      "MD003_170801_rec1\n",
      "MD004_170721\n",
      "MD004_170802\n",
      "MD009_170808\n",
      "MD010_170808\n"
     ]
    }
   ],
   "source": [
    "import glob\n",
    "import os.path\n",
    "import numpy as np\n",
    "import cv2\n",
    "import scipy.io\n",
    "import matplotlib.pyplot as plt\n",
    "\n",
    "headplate = []\n",
    "reference = []\n",
    "minimum = []\n",
    "maximum = []\n",
    "median = []\n",
    "filenames = []\n",
    "\n",
    "for fn_mat in sorted(glob.glob('./Aki/LeftPawManual*.mat')):\n",
    "    fn_bin = fn_mat[:-4]+'.bin'\n",
    "    fn_npy = fn_mat[:-4]+'.npy'\n",
    "    fn = fn_mat[20:-4]\n",
    "    fn_avi = './Aki/'+fn+'.avi'\n",
    "    print(fn)\n",
    "    filenames.append(fn)\n",
    "\n",
    "    mat = scipy.io.loadmat(fn_mat)\n",
    "\n",
    "    maximum.append(np.percentile(mat['Left_Paw'][mat['Left_Paw'][:,0]>0,:],99,axis=0))\n",
    "    minimum.append(np.percentile(mat['Left_Paw'][mat['Left_Paw'][:,0]>0,:],1,axis=0))\n",
    "    median.append(np.median(mat['Left_Paw'][mat['Left_Paw'][:,0]>0,:],axis=0))\n",
    "    try:\n",
    "        headplate_x = np.round(mat['HeadPlatePosition']).astype(np.int)[0][0]\n",
    "        headplate_y = np.round(mat['HeadPlatePosition']).astype(np.int)[0][1]\n",
    "        # [y, x] in np.array\n",
    "    except:\n",
    "        headplate_x = np.nan\n",
    "        headplate_y = np.nan\n",
    "        print(\"  HeadPlatePosition Not Found\")\n",
    "    try:\n",
    "        reference_x = np.round(mat['Reference_pt']).astype(np.int)[0][0]\n",
    "        reference_y = np.round(mat['Reference_pt']).astype(np.int)[0][1]\n",
    "        # [y, x] in np.array\n",
    "    except:\n",
    "        reference_x = 200\n",
    "        reference_y = 16\n",
    "        print(\"  Reference_pt Not Found\")\n",
    "    headplate.append((headplate_x, headplate_y))\n",
    "    reference.append((reference_x, reference_y))\n",
    "    \n",
    "headplate = np.array(headplate)\n",
    "reference = np.array(reference)\n",
    "maximum = np.array(maximum)\n",
    "minimum = np.array(minimum)\n",
    "median = np.array(median)\n",
    "\n",
    "\n"
   ]
  },
  {
   "cell_type": "code",
   "execution_count": 28,
   "metadata": {},
   "outputs": [
    {
     "name": "stdout",
     "output_type": "stream",
     "text": [
      "[[         nan          nan]\n",
      " [198.91164241 -17.68503119]\n",
      " [         nan          nan]\n",
      " [ 62.99480249  69.16112266]\n",
      " [ 77.8950104   72.16112266]\n",
      " [ 66.97401247  69.16943867]\n",
      " [         nan          nan]\n",
      " [207.09459459  70.0987526 ]\n",
      " [197.14033264  48.11122661]\n",
      " [101.15784314  93.47941176]\n",
      " [ 74.27352941  96.60098039]\n",
      " [ 62.30686275  96.72254902]\n",
      " [ 84.3127451   93.47941176]\n",
      " [         nan          nan]\n",
      " [ 72.52910603  91.06964657]\n",
      " [ 56.67047817  92.07796258]\n",
      " [ 43.67879418  90.07796258]\n",
      " [ 74.52079002  98.06133056]\n",
      " [ 38.73700624  89.09459459]\n",
      " [139.58731809  77.12370062]\n",
      " [ 97.76611227  72.14449064]]\n",
      "[[33.59028865 66.18853961]\n",
      " [42.91164241 36.31496881]\n",
      " [ 4.88901602 39.48855835]\n",
      " [43.99480249 45.16112266]\n",
      " [45.8950104  45.16112266]\n",
      " [35.97401247 43.16943867]\n",
      " [50.79321663 91.09737418]\n",
      " [47.09459459 65.0987526 ]\n",
      " [33.14033264 65.11122661]\n",
      " [68.15784314 64.47941176]\n",
      " [75.27352941 69.60098039]\n",
      " [63.30686275 66.72254902]\n",
      " [62.3127451  67.47941176]\n",
      " [30.64553015 63.08627859]\n",
      " [65.52910603 64.06964657]\n",
      " [38.67047817 63.07796258]\n",
      " [60.67879418 66.07796258]\n",
      " [52.52079002 64.06133056]\n",
      " [22.73700624 60.09459459]\n",
      " [43.58731809 49.12370062]\n",
      " [ 5.76611227 44.14449064]]\n"
     ]
    }
   ],
   "source": [
    "print(median-headplate)\n",
    "print(median-reference)"
   ]
  },
  {
   "cell_type": "code",
   "execution_count": 40,
   "metadata": {},
   "outputs": [
    {
     "name": "stdout",
     "output_type": "stream",
     "text": [
      "[[         nan          nan]\n",
      " [131.19438669 -36.60602911]\n",
      " [         nan          nan]\n",
      " [-44.55613306  10.40644491]\n",
      " [ 18.14449064  43.28170478]\n",
      " [-33.60602911   6.43139293]\n",
      " [         nan          nan]\n",
      " [137.38565489  45.2027027 ]\n",
      " [118.46881497  21.22349272]\n",
      " [ 18.50686275  60.60686275]\n",
      " [  1.95392157  63.73782353]\n",
      " [  5.95392157  68.54607843]\n",
      " [-23.69705882  61.54607843]\n",
      " [         nan          nan]\n",
      " [ -1.16320166  65.17775468]\n",
      " [ -3.64767152  67.18191268]\n",
      " [-25.03430353  63.35952183]\n",
      " [ 10.78690229  74.16112266]\n",
      " [-20.01767152  67.18607069]\n",
      " [ 73.86174636  56.21101871]\n",
      " [ 54.94490644  55.21517672]]\n",
      "[[-13.13721833  38.29780252]\n",
      " [-24.80561331  17.39397089]\n",
      " [-76.83693364  14.27803204]\n",
      " [-63.55613306 -13.59355509]\n",
      " [-13.85550936  16.28170478]\n",
      " [-64.60602911 -19.56860707]\n",
      " [-25.2615122   64.01829268]\n",
      " [-22.61434511  40.2027027 ]\n",
      " [-45.53118503  38.22349272]\n",
      " [-14.49313725  31.60686275]\n",
      " [  2.95392157  36.73782353]\n",
      " [  6.95392157  38.54607843]\n",
      " [-45.69705882  35.54607843]\n",
      " [  1.19848233  50.14033264]\n",
      " [ -8.16320166  38.17775468]\n",
      " [-21.64767152  38.18191268]\n",
      " [ -8.03430353  39.35952183]\n",
      " [-11.21309771  40.16112266]\n",
      " [-36.01767152  38.18607069]\n",
      " [-22.13825364  28.21101871]\n",
      " [-37.05509356  27.21517672]]\n"
     ]
    }
   ],
   "source": [
    "print(minimum-headplate)\n",
    "print(minimum-reference)"
   ]
  },
  {
   "cell_type": "code",
   "execution_count": 41,
   "metadata": {},
   "outputs": [
    {
     "name": "stdout",
     "output_type": "stream",
     "text": [
      "[[         nan          nan]\n",
      " [289.53326403  -5.73492723]\n",
      " [         nan          nan]\n",
      " [138.67879418  94.05717256]\n",
      " [167.91912682  84.11122661]\n",
      " [148.63305613  87.13442827]\n",
      " [         nan          nan]\n",
      " [319.62474012  87.02806653]\n",
      " [336.55821206  66.03638254]\n",
      " [163.14607843 122.59509804]\n",
      " [151.28921569 106.93235294]\n",
      " [138.38333333 117.38529412]\n",
      " [151.15672549 106.62843137]\n",
      " [         nan          nan]\n",
      " [146.22141372 108.247921  ]\n",
      " [155.25883576 105.02390852]\n",
      " [141.27130977 105.01559252]\n",
      " [135.26715177 111.00727651]\n",
      " [110.49738046 105.02806653]\n",
      " [229.21309771  94.05301455]\n",
      " [199.34199584  85.09043659]]\n",
      "[[144.76310671  82.73063196]\n",
      " [133.53326403  48.26507277]\n",
      " [104.63501144  54.83409611]\n",
      " [119.67879418  70.05717256]\n",
      " [135.91912682  57.11122661]\n",
      " [117.63305613  61.13442827]\n",
      " [168.30121951 103.33964989]\n",
      " [159.62474012  82.02806653]\n",
      " [172.55821206  83.03638254]\n",
      " [130.14607843  93.59509804]\n",
      " [152.28921569  79.93235294]\n",
      " [139.38333333  87.38529412]\n",
      " [129.15672549  80.62843137]\n",
      " [117.28378378  74.04054054]\n",
      " [139.22141372  81.247921  ]\n",
      " [137.25883576  76.02390852]\n",
      " [158.27130977  81.01559252]\n",
      " [113.26715177  77.00727651]\n",
      " [ 94.49738046  76.02806653]\n",
      " [133.21309771  66.05301455]\n",
      " [107.34199584  57.09043659]]\n"
     ]
    }
   ],
   "source": [
    "print(maximum-headplate)\n",
    "print(maximum-reference)"
   ]
  },
  {
   "cell_type": "code",
   "execution_count": 27,
   "metadata": {
    "scrolled": true
   },
   "outputs": [
    {
     "name": "stdout",
     "output_type": "stream",
     "text": [
      "[[  nan   nan]\n",
      " [-156.   54.]\n",
      " [  nan   nan]\n",
      " [ -19.  -24.]\n",
      " [ -32.  -27.]\n",
      " [ -31.  -26.]\n",
      " [  nan   nan]\n",
      " [-160.   -5.]\n",
      " [-164.   17.]\n",
      " [ -33.  -29.]\n",
      " [   1.  -27.]\n",
      " [   1.  -30.]\n",
      " [ -22.  -26.]\n",
      " [  nan   nan]\n",
      " [  -7.  -27.]\n",
      " [ -18.  -29.]\n",
      " [  17.  -24.]\n",
      " [ -22.  -34.]\n",
      " [ -16.  -29.]\n",
      " [ -96.  -28.]\n",
      " [ -92.  -28.]]\n"
     ]
    }
   ],
   "source": [
    "print(headplate-reference)"
   ]
  },
  {
   "cell_type": "code",
   "execution_count": 52,
   "metadata": {},
   "outputs": [
    {
     "name": "stdout",
     "output_type": "stream",
     "text": [
      "[336.55821206 122.59509804]\n",
      "[172.55821206 103.33964989]\n"
     ]
    }
   ],
   "source": [
    "print(np.nanmax(maximum-headplate,axis=0))\n",
    "print(np.nanmax(maximum-reference,axis=0))"
   ]
  },
  {
   "cell_type": "code",
   "execution_count": 51,
   "metadata": {},
   "outputs": [
    {
     "name": "stdout",
     "output_type": "stream",
     "text": [
      "[-44.55613306 -36.60602911]\n",
      "[-76.83693364 -19.56860707]\n"
     ]
    }
   ],
   "source": [
    "print(np.nanmin(minimum-headplate,axis=0))\n",
    "print(np.nanmin(minimum-reference,axis=0))"
   ]
  },
  {
   "cell_type": "code",
   "execution_count": 44,
   "metadata": {},
   "outputs": [
    {
     "data": {
      "text/plain": [
       "array([-22., -27.])"
      ]
     },
     "execution_count": 44,
     "metadata": {},
     "output_type": "execute_result"
    }
   ],
   "source": [
    "np.nanmedian(headplate-reference,axis=0)"
   ]
  },
  {
   "cell_type": "code",
   "execution_count": null,
   "metadata": {},
   "outputs": [],
   "source": [
    "headplate-reference = [-15, -30]"
   ]
  },
  {
   "cell_type": "code",
   "execution_count": 48,
   "metadata": {},
   "outputs": [
    {
     "data": {
      "text/plain": [
       "array([433.28921569, 138.59509804])"
      ]
     },
     "execution_count": 48,
     "metadata": {},
     "output_type": "execute_result"
    }
   ],
   "source": [
    "np.max(maximum,axis=0)"
   ]
  },
  {
   "cell_type": "code",
   "execution_count": 49,
   "metadata": {},
   "outputs": [
    {
     "data": {
      "text/plain": [
       "array([128.46881497,  17.43139293])"
      ]
     },
     "execution_count": 49,
     "metadata": {},
     "output_type": "execute_result"
    }
   ],
   "source": [
    "np.min(minimum,axis=0)"
   ]
  },
  {
   "cell_type": "code",
   "execution_count": 46,
   "metadata": {},
   "outputs": [
    {
     "data": {
      "text/plain": [
       "array([171,   7])"
      ]
     },
     "execution_count": 46,
     "metadata": {},
     "output_type": "execute_result"
    }
   ],
   "source": [
    "np.min(reference,axis=0)"
   ]
  },
  {
   "cell_type": "code",
   "execution_count": 47,
   "metadata": {},
   "outputs": [
    {
     "data": {
      "text/plain": [
       "array([303,  45])"
      ]
     },
     "execution_count": 47,
     "metadata": {},
     "output_type": "execute_result"
    }
   ],
   "source": [
    "np.max(reference,axis=0)"
   ]
  },
  {
   "cell_type": "code",
   "execution_count": 50,
   "metadata": {},
   "outputs": [
    {
     "data": {
      "text/plain": [
       "array([[223,  40],\n",
       "       [219,   9],\n",
       "       [246,   7],\n",
       "       [198,  37],\n",
       "       [220,  37],\n",
       "       [211,  37],\n",
       "       [229,  10],\n",
       "       [171,  32],\n",
       "       [174,  29],\n",
       "       [259,  45],\n",
       "       [281,  38],\n",
       "       [277,  39],\n",
       "       [247,  42],\n",
       "       [295,  37],\n",
       "       [288,  40],\n",
       "       [281,  39],\n",
       "       [257,  36],\n",
       "       [303,  42],\n",
       "       [281,  38],\n",
       "       [296,  42],\n",
       "       [291,  42]])"
      ]
     },
     "execution_count": 50,
     "metadata": {},
     "output_type": "execute_result"
    }
   ],
   "source": [
    "reference"
   ]
  },
  {
   "cell_type": "code",
   "execution_count": 53,
   "metadata": {},
   "outputs": [
    {
     "data": {
      "text/plain": [
       "array([[ nan,  nan],\n",
       "       [ 63.,  63.],\n",
       "       [ nan,  nan],\n",
       "       [179.,  13.],\n",
       "       [188.,  10.],\n",
       "       [180.,  11.],\n",
       "       [ nan,  nan],\n",
       "       [ 11.,  27.],\n",
       "       [ 10.,  46.],\n",
       "       [226.,  16.],\n",
       "       [282.,  11.],\n",
       "       [278.,   9.],\n",
       "       [225.,  16.],\n",
       "       [ nan,  nan],\n",
       "       [281.,  13.],\n",
       "       [263.,  10.],\n",
       "       [274.,  12.],\n",
       "       [281.,   8.],\n",
       "       [265.,   9.],\n",
       "       [200.,  14.],\n",
       "       [199.,  14.]])"
      ]
     },
     "execution_count": 53,
     "metadata": {},
     "output_type": "execute_result"
    }
   ],
   "source": [
    "headplate"
   ]
  }
 ],
 "metadata": {
  "kernelspec": {
   "display_name": "Python 3",
   "language": "python",
   "name": "python3"
  },
  "language_info": {
   "codemirror_mode": {
    "name": "ipython",
    "version": 3
   },
   "file_extension": ".py",
   "mimetype": "text/x-python",
   "name": "python",
   "nbconvert_exporter": "python",
   "pygments_lexer": "ipython3",
   "version": "3.5.2"
  }
 },
 "nbformat": 4,
 "nbformat_minor": 2
}
